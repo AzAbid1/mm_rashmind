{
 "cells": [
  {
   "cell_type": "code",
   "execution_count": 31,
   "id": "fe39989b-1a24-44ab-865f-fa82da968f74",
   "metadata": {},
   "outputs": [],
   "source": [
    "import pandas as pd"
   ]
  },
  {
   "cell_type": "code",
   "execution_count": 32,
   "id": "4742d8f8-df53-4621-8a4e-df190a94d334",
   "metadata": {},
   "outputs": [],
   "source": [
    "# Load the dataset\n",
    "file_path = \"drsi.csv\"\n",
    "df = pd.read_csv(file_path)"
   ]
  },
  {
   "cell_type": "code",
   "execution_count": 33,
   "id": "ee442588-c779-42fd-aff4-9173b7ba8949",
   "metadata": {},
   "outputs": [],
   "source": [
    "# Remove rows from 2 to 192 (zero-based index 1 to 191)\n",
    "df_cleaned = df.iloc[192:].reset_index(drop=True)\n",
    "\n",
    "# Rename \"Title\" column to \"Date\"\n",
    "df_cleaned.rename(columns={\"Title\": \"Date\"}, inplace=True)\n",
    "\n",
    "df_cleaned[\"Date\"] = pd.to_datetime(df_cleaned[\"Date\"], format=\"%Y %b\", errors=\"coerce\")"
   ]
  },
  {
   "cell_type": "code",
   "execution_count": 34,
   "id": "28c8c87c-698e-40f1-b7e3-5f30a05e965a",
   "metadata": {},
   "outputs": [],
   "source": [
    "# Manually specify the columns to keep\n",
    "columns_to_keep = [\n",
    "    \"Date\",  # Assuming this is the Date column. Change if necessary.\n",
    "\n",
    "    # Technology\n",
    "    \"RSI:Retail of computer and telecomms equipment (val sa):All Business Index\",\n",
    "\n",
    "    # Food\n",
    "    \"RSI:Predominantly food stores (val sa):All Business Index\",\n",
    "\n",
    "    # Cosmetic\n",
    "    \"RSI:Retail cosmetic & toilet articles (val sa):All Business Index\",\n",
    "\n",
    "    # Clothing\n",
    "    \"RSI:Retail sale of clothing (val sa):All Business Index\",\n",
    "]"
   ]
  },
  {
   "cell_type": "code",
   "execution_count": 35,
   "id": "d5b3ed6a-d1b0-49ce-978c-79bae6741bfe",
   "metadata": {},
   "outputs": [],
   "source": [
    "# Check which of the selected columns actually exist in the dataset\n",
    "existing_columns = [col for col in columns_to_keep if col in df_cleaned.columns]\n",
    "\n",
    "# Keep only selected columns\n",
    "df_cleaned = df_cleaned[existing_columns]"
   ]
  },
  {
   "cell_type": "code",
   "execution_count": 36,
   "id": "89060ce9-8026-4aec-9ac2-a6032a87e26e",
   "metadata": {},
   "outputs": [
    {
     "name": "stdout",
     "output_type": "stream",
     "text": [
      "        Date  \\\n",
      "0 1988-02-01   \n",
      "1 1988-03-01   \n",
      "2 1988-04-01   \n",
      "3 1988-05-01   \n",
      "4 1988-06-01   \n",
      "\n",
      "  RSI:Retail of computer and telecomms equipment (val sa):All Business Index  \\\n",
      "0                                               84.2                           \n",
      "1                                               81.8                           \n",
      "2                                               86.0                           \n",
      "3                                               88.1                           \n",
      "4                                               89.0                           \n",
      "\n",
      "  RSI:Predominantly food stores (val sa):All Business Index  \\\n",
      "0                                               25.2          \n",
      "1                                               25.3          \n",
      "2                                               25.5          \n",
      "3                                               25.4          \n",
      "4                                               25.6          \n",
      "\n",
      "  RSI:Retail cosmetic & toilet articles (val sa):All Business Index  \\\n",
      "0                                               13.4                  \n",
      "1                                               13.8                  \n",
      "2                                               14.1                  \n",
      "3                                               14.4                  \n",
      "4                                               14.3                  \n",
      "\n",
      "  RSI:Retail sale of clothing (val sa):All Business Index  \n",
      "0                                               30.6       \n",
      "1                                               30.5       \n",
      "2                                               30.8       \n",
      "3                                               31.1       \n",
      "4                                               32.1       \n"
     ]
    }
   ],
   "source": [
    "# Print first few rows to verify\n",
    "print(df_cleaned.head())"
   ]
  },
  {
   "cell_type": "code",
   "execution_count": 37,
   "id": "f55efd99-f870-42a4-90bf-71023c207493",
   "metadata": {},
   "outputs": [],
   "source": [
    "# Save the cleaned dataset\n",
    "cleaned_file_path = \"cleaned_drsi.csv\"\n",
    "df_cleaned.to_csv(cleaned_file_path, index=False)"
   ]
  },
  {
   "cell_type": "code",
   "execution_count": 38,
   "id": "8ad84da5-1048-4c86-9384-942b9a0143be",
   "metadata": {},
   "outputs": [
    {
     "name": "stdout",
     "output_type": "stream",
     "text": [
      "Cleaned data saved to cleaned_drsi.csv\n"
     ]
    }
   ],
   "source": [
    "print(f\"Cleaned data saved to {cleaned_file_path}\")"
   ]
  }
 ],
 "metadata": {
  "kernelspec": {
   "display_name": "Python 3 (ipykernel)",
   "language": "python",
   "name": "python3"
  },
  "language_info": {
   "codemirror_mode": {
    "name": "ipython",
    "version": 3
   },
   "file_extension": ".py",
   "mimetype": "text/x-python",
   "name": "python",
   "nbconvert_exporter": "python",
   "pygments_lexer": "ipython3",
   "version": "3.10.6"
  }
 },
 "nbformat": 4,
 "nbformat_minor": 5
}
