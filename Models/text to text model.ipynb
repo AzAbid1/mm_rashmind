{
  "cells": [
    {
      "cell_type": "code",
      "execution_count": 3,
      "metadata": {
        "colab": {
          "base_uri": "https://localhost:8080/",
          "height": 627
        },
        "id": "1ZlzmkhhJ2cb",
        "outputId": "f4376487-29b7-4a7a-a061-34d63978d1b4"
      },
      "outputs": [
        {
          "name": "stdout",
          "output_type": "stream",
          "text": [
            "Requirement already satisfied: mistralai in /usr/local/lib/python3.11/dist-packages (1.7.0)\n",
            "Requirement already satisfied: eval-type-backport>=0.2.0 in /usr/local/lib/python3.11/dist-packages (from mistralai) (0.2.2)\n",
            "Requirement already satisfied: httpx>=0.28.1 in /usr/local/lib/python3.11/dist-packages (from mistralai) (0.28.1)\n",
            "Requirement already satisfied: pydantic>=2.10.3 in /usr/local/lib/python3.11/dist-packages (from mistralai) (2.11.3)\n",
            "Requirement already satisfied: python-dateutil>=2.8.2 in /usr/local/lib/python3.11/dist-packages (from mistralai) (2.9.0.post0)\n",
            "Requirement already satisfied: typing-inspection>=0.4.0 in /usr/local/lib/python3.11/dist-packages (from mistralai) (0.4.0)\n",
            "Requirement already satisfied: anyio in /usr/local/lib/python3.11/dist-packages (from httpx>=0.28.1->mistralai) (4.9.0)\n",
            "Requirement already satisfied: certifi in /usr/local/lib/python3.11/dist-packages (from httpx>=0.28.1->mistralai) (2025.1.31)\n",
            "Requirement already satisfied: httpcore==1.* in /usr/local/lib/python3.11/dist-packages (from httpx>=0.28.1->mistralai) (1.0.9)\n",
            "Requirement already satisfied: idna in /usr/local/lib/python3.11/dist-packages (from httpx>=0.28.1->mistralai) (3.10)\n",
            "Requirement already satisfied: h11>=0.16 in /usr/local/lib/python3.11/dist-packages (from httpcore==1.*->httpx>=0.28.1->mistralai) (0.16.0)\n",
            "Requirement already satisfied: annotated-types>=0.6.0 in /usr/local/lib/python3.11/dist-packages (from pydantic>=2.10.3->mistralai) (0.7.0)\n",
            "Requirement already satisfied: pydantic-core==2.33.1 in /usr/local/lib/python3.11/dist-packages (from pydantic>=2.10.3->mistralai) (2.33.1)\n",
            "Requirement already satisfied: typing-extensions>=4.12.2 in /usr/local/lib/python3.11/dist-packages (from pydantic>=2.10.3->mistralai) (4.13.2)\n",
            "Requirement already satisfied: six>=1.5 in /usr/local/lib/python3.11/dist-packages (from python-dateutil>=2.8.2->mistralai) (1.17.0)\n",
            "Requirement already satisfied: sniffio>=1.1 in /usr/local/lib/python3.11/dist-packages (from anyio->httpx>=0.28.1->mistralai) (1.3.1)\n",
            "Enter your product description: pc gamer with 5070 rtx and i9 cpu and 32 ram \n"
          ]
        },
        {
          "output_type": "display_data",
          "data": {
            "text/plain": [
              "<IPython.core.display.HTML object>"
            ],
            "text/html": [
              "<div style='font-family: Arial; font-size: 16px;'>**Facebook Post Description:**<br>🎮 Level up your gaming experience with our power-packed combo: 5070 RTX, i9 CPU, and 32GB RAM! 🚀 Imagine smooth, immersive gameplay like never before. Don't miss out—upgrade today! 🎮🚀 #GamingRevolution #PCGaming #UltimateSetup #GamerLife #TechUpgrade<br><br>**Instagram Post Description:**<br>💥 Elevate your gaming with a beast of a setup: 5070 RTX, i9 CPU, and 32GB RAM! 💥 Ready for the ultimate gaming experience? 🎮🔥 Tag a gamer who needs to see this! #GamingSetup #PCGaming #TechGoals #GamerLife #EpicGear Hashtags: #GamingRevolution, #PCGaming, #UltimateSetup, #GamerLife, #TechUpgrade, #GamingSetup, #PCGaming, #TechGoals, #GamerLife, #EpicGear</div>"
            ]
          },
          "metadata": {}
        },
        {
          "output_type": "display_data",
          "data": {
            "text/plain": [
              "<IPython.core.display.Javascript object>"
            ],
            "application/javascript": [
              "\n",
              "    async function download(id, filename, size) {\n",
              "      if (!google.colab.kernel.accessAllowed) {\n",
              "        return;\n",
              "      }\n",
              "      const div = document.createElement('div');\n",
              "      const label = document.createElement('label');\n",
              "      label.textContent = `Downloading \"${filename}\": `;\n",
              "      div.appendChild(label);\n",
              "      const progress = document.createElement('progress');\n",
              "      progress.max = size;\n",
              "      div.appendChild(progress);\n",
              "      document.body.appendChild(div);\n",
              "\n",
              "      const buffers = [];\n",
              "      let downloaded = 0;\n",
              "\n",
              "      const channel = await google.colab.kernel.comms.open(id);\n",
              "      // Send a message to notify the kernel that we're ready.\n",
              "      channel.send({})\n",
              "\n",
              "      for await (const message of channel.messages) {\n",
              "        // Send a message to notify the kernel that we're ready.\n",
              "        channel.send({})\n",
              "        if (message.buffers) {\n",
              "          for (const buffer of message.buffers) {\n",
              "            buffers.push(buffer);\n",
              "            downloaded += buffer.byteLength;\n",
              "            progress.value = downloaded;\n",
              "          }\n",
              "        }\n",
              "      }\n",
              "      const blob = new Blob(buffers, {type: 'application/binary'});\n",
              "      const a = document.createElement('a');\n",
              "      a.href = window.URL.createObjectURL(blob);\n",
              "      a.download = filename;\n",
              "      div.appendChild(a);\n",
              "      a.click();\n",
              "      div.remove();\n",
              "    }\n",
              "  "
            ]
          },
          "metadata": {}
        },
        {
          "output_type": "display_data",
          "data": {
            "text/plain": [
              "<IPython.core.display.Javascript object>"
            ],
            "application/javascript": [
              "download(\"download_224a9154-2be4-442f-ae4e-b953c6c741d8\", \"generated_content.txt\", 697)"
            ]
          },
          "metadata": {}
        },
        {
          "output_type": "stream",
          "name": "stdout",
          "text": [
            "\n",
            "✅ Output saved to 'generated_content.txt' and downloaded.\n"
          ]
        }
      ],
      "source": [
        "# Install required libraries\n",
        "!pip install mistralai\n",
        "\n",
        "# Import necessary libraries\n",
        "import requests\n",
        "from google.colab import files\n",
        "\n",
        "# API setup\n",
        "api_key = \"jZn90sBcdqnpKDxj1Huqdo7t6JlhNa3E\"  # Replace with your actual API key\n",
        "model_id = \"ft:open-mistral-7b:b078f810:20250410:c7eee20e\"  # Your fine-tuned model\n",
        "endpoint = \"https://api.mistral.ai/v1/chat/completions\"  # Mistral API endpoint\n",
        "\n",
        "# Prompt template\n",
        "prompt_template = \"\"\"\n",
        "Given the following user-provided product description: '{user_description}', generate promotional content optimized for my fine-tuned model. Produce the following two outputs:\n",
        "\n",
        "1. **Facebook Post Description**: A detailed, engaging caption for a Facebook post. Start with a hook, emphasize the product's unique benefit, include a call to action, and add 1-3 relevant hashtags. Make it conversational and suited for Facebook's audience.\n",
        "\n",
        "2. **Instagram Post Description**: A short, punchy caption for an Instagram post. Highlight the product's appeal with a strong hook, include a call to action, and use 1-3 trendy hashtags. Keep it concise and visual-focused.\n",
        "\n",
        "\n",
        "Format the response as:\n",
        "**Facebook Post Description:** [generated text]\n",
        "**Instagram Post Description:** [generated text]\n",
        "\n",
        "\"\"\"\n",
        "\n",
        "# Get user input\n",
        "user_description = input(\"Enter your product description: \")\n",
        "\n",
        "# Fill the prompt with the user's description\n",
        "prompt = prompt_template.format(user_description=user_description)\n",
        "\n",
        "# API request headers and data\n",
        "headers = {\n",
        "    \"Authorization\": f\"Bearer {api_key}\",\n",
        "    \"Content-Type\": \"application/json\"\n",
        "}\n",
        "\n",
        "data = {\n",
        "    \"model\": model_id,\n",
        "    \"messages\": [{\"role\": \"user\", \"content\": prompt}],\n",
        "    \"temperature\": 0.7,  # Adjust for creativity vs. focus\n",
        "    \"max_tokens\": 500    # Enough for all four outputs\n",
        "}\n",
        "\n",
        "# Send request to the API\n",
        "response = requests.post(endpoint, headers=headers, json=data)\n",
        "\n",
        "# Check and display the response\n",
        "if response.status_code == 200:\n",
        "    output = response.json()[\"choices\"][0][\"message\"][\"content\"]\n",
        "\n",
        "    # Display nicely with line breaks\n",
        "    from IPython.display import display, HTML\n",
        "    formatted_output = output.replace(\"\\n\", \"<br>\")\n",
        "    display(HTML(f\"<div style='font-family: Arial; font-size: 16px;'>{formatted_output}</div>\"))\n",
        "\n",
        "    # Save output to file\n",
        "    with open('generated_content.txt', 'w', encoding='utf-8') as f:\n",
        "        f.write(output)\n",
        "\n",
        "    # Download the file\n",
        "    files.download('generated_content.txt')\n",
        "\n",
        "    print(\"\\n✅ Output saved to 'generated_content.txt' and downloaded.\")\n",
        "else:\n",
        "    print(f\"❌ Error: {response.status_code}, {response.text}\")"
      ]
    },
    {
      "cell_type": "code",
      "source": [],
      "metadata": {
        "id": "NVkE7zflxu4L"
      },
      "execution_count": null,
      "outputs": []
    }
  ],
  "metadata": {
    "colab": {
      "provenance": []
    },
    "kernelspec": {
      "display_name": "Python 3",
      "name": "python3"
    },
    "language_info": {
      "name": "python"
    }
  },
  "nbformat": 4,
  "nbformat_minor": 0
}